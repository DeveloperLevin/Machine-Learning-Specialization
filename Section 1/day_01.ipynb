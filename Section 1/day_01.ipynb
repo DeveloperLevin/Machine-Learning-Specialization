{
 "cells": [
  {
   "cell_type": "markdown",
   "metadata": {},
   "source": [
    "## Machine Learning Process\n",
    "\n",
    "1.   Data Pre-Processing\n",
    "2.   Modelling\n",
    "3.   Evaluation\n",
    "\n",
    "\n",
    "## Feature Scaling\n",
    "\n",
    "*Important* (applied to columns)\n",
    "\n",
    "1.   Normalization - Take min from column subtract it with all the values from that column and divide it by the max - min, value range [0, 1]\n",
    "\n",
    "\n",
    "> X' = (X - xmin)/(xmax - xmin)\n",
    "\n",
    "\n",
    "2. Standardization - similar to normalization but we subtract using the average of the column and divide by standard deviation, value range is [-3, +3]\n",
    "\n",
    "\n",
    "> X' = (X - avg)/n"
   ]
  },
  {
   "cell_type": "markdown",
   "metadata": {},
   "source": []
  }
 ],
 "metadata": {
  "language_info": {
   "name": "python"
  }
 },
 "nbformat": 4,
 "nbformat_minor": 2
}
