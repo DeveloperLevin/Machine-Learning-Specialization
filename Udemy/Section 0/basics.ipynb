{
 "cells": [
  {
   "cell_type": "markdown",
   "metadata": {},
   "source": [
    "## Feature scaling is *Exclusive* to columns\n",
    "\n",
    "1. Normalization\n",
    "2. Standardization"
   ]
  },
  {
   "cell_type": "code",
   "execution_count": null,
   "metadata": {},
   "outputs": [],
   "source": []
  }
 ],
 "metadata": {
  "language_info": {
   "name": "python"
  }
 },
 "nbformat": 4,
 "nbformat_minor": 2
}
